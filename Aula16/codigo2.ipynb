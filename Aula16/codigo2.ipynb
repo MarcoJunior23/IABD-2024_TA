{
 "cells": [
  {
   "cell_type": "code",
   "execution_count": null,
   "metadata": {
    "vscode": {
     "languageId": "plaintext"
    }
   },
   "outputs": [],
   "source": [
    "import pandas as pd\n",
    "import numpy as np\n",
    "import matplotlib.pyplot as plt\n",
    "from sklearn.cluster import KMeans\n",
    "import seaborn as sns\n",
    "from mpl_toolkits.mplot3d import Axes3D,"
   ]
  },
  {
   "cell_type": "markdown",
   "metadata": {},
   "source": [
    "# gerando dados para as açoes\n",
    "np.random.seed()"
   ]
  }
 ],
 "metadata": {
  "language_info": {
   "name": "python"
  }
 },
 "nbformat": 4,
 "nbformat_minor": 2
}
