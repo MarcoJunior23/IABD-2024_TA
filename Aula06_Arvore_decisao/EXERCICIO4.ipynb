{
 "cells": [
  {
   "cell_type": "code",
   "execution_count": null,
   "metadata": {},
   "outputs": [],
   "source": [
    "import pandas as pd\n",
    "from sklearn.model_selection import train_test_split\n",
    "from sklearn.tree import DecisionTreeClassifier\n",
    "from sklearn.metrics import classification_report, confusion_matrix\n",
    "from sklearn import tree\n",
    "from sklearn.preprocessing import LabelEncoder\n",
    "import matplotlib.pyplot as plt"
   ]
  },
  {
   "cell_type": "code",
   "execution_count": null,
   "metadata": {},
   "outputs": [],
   "source": [
    "# Passo 2: Criar o DataFrame com os dados fornecidos\n",
    "data = pd.DataFrame({\n",
    "    'Consumo de energia': [1000, 3000, 1500, 2500, 1200, 3500],\n",
    "    'Tempo de operação': [200, 500, 300, 400, 250, 600],\n",
    "    'Tipo de energia': ['Elétrica', 'Gás', 'Elétrica', 'Gás', 'Elétrica', 'Gás'],\n",
    "    'Classificação': ['Eficiente', 'Ineficiente', 'Eficiente', 'Ineficiente', 'Eficiente', 'Ineficiente']\n",
    "})\n",
    "\n",
    "# Passo 3: Converter a variável categórica 'Tipo de energia' em valores numéricos\n",
    "label_encoder = LabelEncoder()\n",
    "data['Tipo de energia'] = label_encoder.fit_transform(data['Tipo de energia'])\n",
    "data['Classificação'] = label_encoder.fit_transform(data['Classificação'])\n",
    "\n",
    "# Exibir os dados após a conversão\n",
    "print(\"Dados após a conversão:\\n\", data)\n",
    "\n",
    "# Passo 4: Separar os dados em conjuntos de treinamento e teste\n",
    "X = data.drop('Classificação', axis=1) # Características\n",
    "y = data['Classificação'] # Classes\n",
    "\n",
    "X_train, X_test, y_train, y_test = train_test_split(X, y, test_size=0.3, random_state=42)\n",
    "\n",
    "# Passo 5: Treinar o modelo de árvore de decisão\n",
    "classifier = DecisionTreeClassifier(random_state=42)\n",
    "classifier.fit(X_train, y_train)\n",
    "\n",
    "# Passo 6: Avaliar o modelo\n",
    "y_pred = classifier.predict(X_test)\n",
    "\n",
    "print(\"\\nMatriz de Confusão:\")\n",
    "print(confusion_matrix(y_test, y_pred))\n",
    "print(\"\\nRelatório de Classificação:\")\n",
    "print(classification_report(y_test, y_pred))\n",
    "\n",
    "# Passo 7: Visualizar a árvore de decisão\n",
    "plt.figure(figsize=(12,8))\n",
    "tree.plot_tree(classifier, feature_names=X.columns, class_names=['Ineficiente', 'Eficiente'], filled=True)\n",
    "plt.title(\"Árvore de Decisão para Classificação da Eficiência Energética das Máquinas\")\n",
    "plt.show()\n"
   ]
  }
 ],
 "metadata": {
  "kernelspec": {
   "display_name": "Python 3",
   "language": "python",
   "name": "python3"
  },
  "language_info": {
   "codemirror_mode": {
    "name": "ipython",
    "version": 3
   },
   "file_extension": ".py",
   "mimetype": "text/x-python",
   "name": "python",
   "nbconvert_exporter": "python",
   "pygments_lexer": "ipython3",
   "version": "3.11.9"
  }
 },
 "nbformat": 4,
 "nbformat_minor": 2
}
