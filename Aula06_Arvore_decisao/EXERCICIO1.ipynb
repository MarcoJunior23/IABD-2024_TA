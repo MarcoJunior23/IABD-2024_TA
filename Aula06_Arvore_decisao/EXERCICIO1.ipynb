{
 "cells": [
  {
   "cell_type": "code",
   "execution_count": null,
   "metadata": {},
   "outputs": [],
   "source": [
    "# Passo 1: Importar as bibliotecas necessárias\n",
    "import pandas as pd\n",
    "from sklearn.model_selection import train_test_split\n",
    "from sklearn.tree import DecisionTreeClassifier\n",
    "from sklearn.metrics import classification_report, confusion_matrix\n",
    "from sklearn import tree\n",
    "import matplotlib.pyplot as plt"
   ]
  },
  {
   "cell_type": "code",
   "execution_count": null,
   "metadata": {},
   "outputs": [],
   "source": [
    "# Passo 2: Criar um conjunto de dados fictício\n",
    "# Dados fictícios: velocidade de operação, complexidade das tarefas, manutenção necessária, tipo de máquina\n",
    "data = {\n",
    "    'Velocidade de operação': [10, 5, 8, 6, 12, 4],\n",
    "    'Complexidade da Tarefa': ['Baixa', 'Alta', 'Média', 'Alta', 'Baixa', 'Alta'],\n",
    "    'Manutenção Necessária': ['Baixa', 'Alta', 'Média', 'Alta', 'Baixa', 'Média'],\n",
    "    'Classificação': ['Montagem', 'Teste', 'Montagem', 'Teste', 'Montagem', 'Teste']\n",
    "}\n",
    "\n",
    "# Criar um DataFrame\n",
    "df = pd.DataFrame(data)\n",
    "\n",
    "# Passo 3: Separar os dados em conjuntos de treinamento e teste\n",
    "X = df.drop('tipo_maquina', axis=1) # Características\n",
    "y = df['tipo_maquina'] # Classes\n",
    "\n",
    "X_train, X_test, y_train, y_test = train_test_split(X, y, test_size=0.3, random_state=42)\n",
    "\n",
    "# Passo 4: Treinar o modelo de árvore de decisão\n",
    "classifier = DecisionTreeClassifier(random_state=42)\n",
    "classifier.fit(X_train, y_train)\n",
    "\n",
    "# Passo 5: Avaliar o modelo\n",
    "y_pred = classifier.predict(X_test)\n",
    "\n",
    "print(\"Matriz de Confusão:\")\n",
    "print(confusion_matrix(y_test, y_pred))\n",
    "print(\"\\nRelatório de Classificação:\")\n",
    "print(classification_report(y_test, y_pred))\n",
    "\n",
    "# Passo 6: Visualizar a árvore de decisão\n",
    "plt.figure(figsize=(12,8))\n",
    "tree.plot_tree(classifier, feature_names=X.columns, class_names=['Montagem', 'Teste'], filled=True)\n",
    "plt.title(\"Árvore de Decisão para Classificação das Máquinas\")\n",
    "plt.show()\n"
   ]
  }
 ],
 "metadata": {
  "kernelspec": {
   "display_name": "Python 3",
   "language": "python",
   "name": "python3"
  },
  "language_info": {
   "codemirror_mode": {
    "name": "ipython",
    "version": 3
   },
   "file_extension": ".py",
   "mimetype": "text/x-python",
   "name": "python",
   "nbconvert_exporter": "python",
   "pygments_lexer": "ipython3",
   "version": "3.11.9"
  }
 },
 "nbformat": 4,
 "nbformat_minor": 2
}
