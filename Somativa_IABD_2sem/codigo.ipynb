{
 "cells": [
  {
   "cell_type": "code",
   "execution_count": null,
   "metadata": {
    "vscode": {
     "languageId": "plaintext"
    }
   },
   "outputs": [],
   "source": [
    "import pandas as pd"
   ]
  },
  {
   "cell_type": "code",
   "execution_count": null,
   "metadata": {
    "vscode": {
     "languageId": "plaintext"
    }
   },
   "outputs": [],
   "source": [
    "import numpy as np\n"
   ]
  },
  {
   "cell_type": "code",
   "execution_count": null,
   "metadata": {
    "vscode": {
     "languageId": "plaintext"
    }
   },
   "outputs": [],
   "source": [
    "import matplotlib.pyplot as plt"
   ]
  },
  {
   "cell_type": "code",
   "execution_count": null,
   "metadata": {
    "vscode": {
     "languageId": "plaintext"
    }
   },
   "outputs": [],
   "source": [
    "import seaborn as sns"
   ]
  },
  {
   "cell_type": "code",
   "execution_count": null,
   "metadata": {
    "vscode": {
     "languageId": "plaintext"
    }
   },
   "outputs": [],
   "source": [
    "from sklearn.cluster import KMeans"
   ]
  },
  {
   "cell_type": "code",
   "execution_count": null,
   "metadata": {
    "vscode": {
     "languageId": "plaintext"
    }
   },
   "outputs": [],
   "source": [
    "from sklearn.metrics import silhouette_score"
   ]
  },
  {
   "cell_type": "code",
   "execution_count": null,
   "metadata": {
    "vscode": {
     "languageId": "plaintext"
    }
   },
   "outputs": [],
   "source": [
    "from sklearn.preprocessing import StandardScaler"
   ]
  },
  {
   "cell_type": "code",
   "execution_count": null,
   "metadata": {
    "vscode": {
     "languageId": "plaintext"
    }
   },
   "outputs": [],
   "source": [
    "# Carregar os dados do arquivo CSV\n",
    "df = pd.read_csv('dadosacoes.csv')\n",
    "df = pd.read_csv('dadosacoes_limpos.csv')\n",
    " \n",
    "# Limpar os nomes das colunas, removendo espaços extras e caracteres indesejados\n",
    "df.columns = df.columns.str.strip()  # Remove espaços extras à esquerda e à direita\n",
    " \n",
    "# Remover símbolos 'R$', e qualquer outro sufixo que não faça parte do nome da coluna\n",
    "df.columns = df.columns.str.replace(r' R\\$', '', regex=True)  # Remove o símbolo 'R$'\n",
    "df.columns = df.columns.str.replace(r'\\s*//.*', '', regex=True)  # Remove qualquer texto após '//' (como ' -(Bilhões)')\n",
    "df.columns = df.columns.str.replace(r'\\s*-\\s*', '_', regex=True)  # Substitui o '-' por um '_'\n",
    "df.columns = df.columns.str.replace(r'\\s+', '_', regex=True)  # Substitui espaços em branco por '_'\n",
    " \n",
    "# Verificar os nomes das colunas após a limpeza\n",
    "print(df.columns)\n",
    " \n",
    "# Garantir que as colunas numéricas estão no tipo correto\n",
    "df['preco_acao'] = pd.to_numeric(df['preco_acao'], errors='coerce')\n",
    "df['qtde_cotas'] = pd.to_numeric(df['qtde_cotas'], errors='coerce')\n",
    "df['valor_de_mercado'] = pd.to_numeric(df['valor_de_mercado'], errors='coerce')  # Agora com o nome correto\n",
    " \n",
    "# Verificar os tipos de dados das colunas\n",
    "print(df.dtypes)\n",
    " \n",
    "# Verificar valores ausentes\n",
    "print(df.isnull().sum())\n",
    " \n",
    "# Verificar duplicatas\n",
    "print(df.duplicated().sum())\n",
    " \n",
    "# Verificar os primeiros registros\n",
    "print(df.head())\n",
    " \n",
    "# Salvar o DataFrame limpo\n",
    "df.to_csv('dadosacoes_limpos.csv', index=False)\n",
    " \n",
    "# Carregar os dados (supondo que o DataFrame df já esteja limpo e com as colunas renomeadas corretamente)\n",
    "# df = pd.read_csv('dadosacoes.csv')  # Descomente se precisar carregar o CSV\n",
    " \n",
    "# a) Plotar box plot do preço da ação para cada ativo para verificar outliers\n",
    " \n",
    "plt.figure(figsize=(12, 6))\n",
    "sns.boxplot(x='nome_acao', y='preco_acao', data=df)\n",
    "plt.title('Box Plot do Preço da Ação por Ativo')\n",
    "plt.xticks(rotation=90)  # Rotacionar os nomes das ações para melhor visualização\n",
    "plt.xlabel('Nome da Ação')\n",
    "plt.ylabel('Preço da Ação (R$)')\n",
    "plt.show()\n",
    " \n",
    "# b) Plotar box plot do valor de mercado da empresa para cada ativo para verificar outliers\n",
    " \n",
    "plt.figure(figsize=(12, 6))\n",
    "sns.boxplot(x='nome_acao', y='valor_de_mercado', data=df)\n",
    "plt.title('Box Plot do Valor de Mercado por Ativo')\n",
    "plt.xticks(rotation=90)  # Rotacionar os nomes das ações para melhor visualização\n",
    "plt.xlabel('Nome da Ação')\n",
    "plt.ylabel('Valor de Mercado (Bilhões R$)')\n",
    "plt.show()\n",
    " \n",
    "# c) Exibir informações do conjunto de dados (df.info()) e estatísticas descritivas (df.describe())\n",
    " \n",
    "# Informações gerais sobre o DataFrame\n",
    "print(\"Informações gerais do DataFrame:\")\n",
    "print(df.info())\n",
    " \n",
    "# Estatísticas descritivas do DataFrame\n",
    "print(\"\\nEstatísticas descritivas do DataFrame:\")\n",
    "print(df.describe())\n",
    " \n",
    " \n",
    "print(type(df))\n",
    " \n",
    "# Recarregar o CSV, caso df tenha sido sobrescrito\n",
    "df = pd.read_csv('dadosacoes_limpos.csv')\n",
    " \n",
    "# Verificar o tipo de df para garantir que é um DataFrame\n",
    "print(f'Tipo de df: {type(df)}')\n",
    " \n",
    "# Exibir as primeiras linhas do DataFrame\n",
    "print(\"\\nPrimeiras linhas do DataFrame:\")\n",
    "print(df.head())\n",
    " \n",
    "# Lidar com valores ausentes\n",
    "# Verificar se há valores ausentes no dataset\n",
    "print(\"\\nValores ausentes por coluna:\")\n",
    "print(df.isnull().sum())  # Isso deve funcionar se df for um DataFrame\n",
    " \n",
    "# Preencher valores ausentes com a mediana (para as colunas numéricas)\n",
    "df['preco_acao'] = df['preco_acao'].fillna(df['preco_acao'].median())\n",
    "df['qtde_cotas'] = df['qtde_cotas'].fillna(df['qtde_cotas'].median())\n",
    "df['valor_de_mercado'] = df['valor_de_mercado'].fillna(df['valor_de_mercado'].median())\n",
    " \n",
    "# Codificar variáveis categóricas\n",
    "# Transformar a coluna 'nome_acao' em variáveis dummy (binárias)\n",
    "df = pd.get_dummies(df, columns=['nome_acao'], drop_first=True)\n",
    " \n",
    "# Verificar o DataFrame após a codificação\n",
    "print(\"\\nDataFrame após a codificação das variáveis categóricas:\")\n",
    "print(df.head())\n",
    " \n",
    "# Normalizar os dados\n",
    "scaler = StandardScaler()\n",
    "df_scaled = df.copy()  # Criar uma cópia para manter os dados originais\n",
    " \n",
    "# Normalizar as colunas numéricas\n",
    "df_scaled[['preco_acao', 'qtde_cotas', 'valor_de_mercado']] = scaler.fit_transform(df[['preco_acao', 'qtde_cotas', 'valor_de_mercado']])\n",
    " \n",
    "# Verificar o DataFrame normalizado\n",
    "print(\"\\nDataFrame normalizado:\")\n",
    "print(df_scaled.head())\n",
    " \n",
    "# Carregar os dados (supondo que df já tenha sido limpo)\n",
    "df = pd.read_csv('dadosacoes_limpos.csv')\n",
    " \n",
    "# Normalizar os dados para o K-means (com base nas variáveis numéricas)\n",
    "scaler = StandardScaler()\n",
    "df_scaled = df.copy()  # Criar uma cópia para manter os dados originais\n",
    " \n",
    "# Normalizar as colunas numéricas\n",
    "df_scaled[['preco_acao', 'qtde_cotas', 'valor_de_mercado']] = scaler.fit_transform(df[['preco_acao', 'qtde_cotas', 'valor_de_mercado']])\n",
    " \n",
    "# ---- Etapa a: Aplicar K-means com n_clusters=4 ----\n",
    "print(\"\\n--- Etapa a: K-means com n_clusters=4 ---\")\n",
    "# Aplicando K-means com n_clusters = 4\n",
    "kmeans_4 = KMeans(n_clusters=4, random_state=42)\n",
    "df_scaled['cluster_4'] = kmeans_4.fit_predict(df_scaled[['preco_acao', 'qtde_cotas', 'valor_de_mercado']])\n",
    " \n",
    "# Exibir os primeiros registros com os clusters atribuídos\n",
    "print(\"\\nPrimeiras linhas com o agrupamento de 4 clusters:\")\n",
    "print(df_scaled[['preco_acao', 'qtde_cotas', 'valor_de_mercado', 'cluster_4']].head())\n",
    " \n",
    "# ---- Etapa b: Alterar o número de clusters para 5 ----\n",
    "print(\"\\n--- Etapa b: Alterar o número de clusters para 5 ---\")\n",
    "# Aplicando K-means com n_clusters = 5\n",
    "kmeans_5 = KMeans(n_clusters=5, random_state=42)\n",
    "df_scaled['cluster_5'] = kmeans_5.fit_predict(df_scaled[['preco_acao', 'qtde_cotas', 'valor_de_mercado']])\n",
    " \n",
    "# Exibir os primeiros registros com os clusters atribuídos\n",
    "print(\"\\nPrimeiras linhas com o agrupamento de 5 clusters:\")\n",
    "print(df_scaled[['preco_acao', 'qtde_cotas', 'valor_de_mercado', 'cluster_5']].head())\n",
    " \n",
    "# ---- Etapa c: Plotar o gráfico do cotovelo para n variando de 1 a 8 clusters ----\n",
    "print(\"\\n--- Etapa c: Gráfico do Cotovelo ---\")\n",
    "# Método do Cotovelo: calcular a inércia para diferentes números de clusters\n",
    "inercia = []\n",
    "for k in range(1, 9):\n",
    "    kmeans = KMeans(n_clusters=k, random_state=42)\n",
    "    kmeans.fit(df_scaled[['preco_acao', 'qtde_cotas', 'valor_de_mercado']])\n",
    "    inercia.append(kmeans.inertia_)\n",
    " \n",
    "# Plotando o gráfico do cotovelo\n",
    "plt.figure(figsize=(8, 6))\n",
    "plt.plot(range(1, 9), inercia, marker='o')\n",
    "plt.title('Método do Cotovelo para Escolha de k')\n",
    "plt.xlabel('Número de Clusters')\n",
    "plt.ylabel('Inércia')\n",
    "plt.xticks(range(1, 9))\n",
    "plt.grid(True)\n",
    "plt.show()\n",
    " \n",
    "# ---- Etapa d: Plotar o gráfico da silhueta ----\n",
    "print(\"\\n--- Etapa d: Gráfico da Silhueta ---\")\n",
    "# Calcular e plotar a silhueta para diferentes números de clusters\n",
    "silhouettes = []\n",
    "for k in range(2, 9):  # Não faz sentido calcular para 1 cluster\n",
    "    kmeans = KMeans(n_clusters=k, random_state=42)\n",
    "    kmeans.fit(df_scaled[['preco_acao', 'qtde_cotas', 'valor_de_mercado']])\n",
    "    score = silhouette_score(df_scaled[['preco_acao', 'qtde_cotas', 'valor_de_mercado']], kmeans.labels_)\n",
    "    silhouettes.append(score)\n",
    " \n",
    "# Plotando o gráfico da silhueta\n",
    "plt.figure(figsize=(8, 6))\n",
    "plt.plot(range(2, 9), silhouettes, marker='o')\n",
    "plt.title('Análise de Silhueta para Diferentes Valores de k')\n",
    "plt.xlabel('Número de Clusters')\n",
    "plt.ylabel('Pontuação de Silhueta')\n",
    "plt.xticks(range(2, 9))\n",
    "plt.grid(True)\n",
    "plt.show()\n",
    " \n",
    "import pandas as pd\n",
    "import numpy as np\n",
    "import matplotlib.pyplot as plt\n",
    "import seaborn as sns\n",
    "from sklearn.cluster import KMeans\n",
    "from sklearn.decomposition import PCA\n",
    "from sklearn.metrics import silhouette_score\n",
    "from sklearn.preprocessing import StandardScaler\n",
    "from mpl_toolkits.mplot3d import Axes3D\n",
    " \n",
    "# Carregar os dados (supondo que df já tenha sido limpo)\n",
    "df = pd.read_csv('dadosacoes_limpos.csv')\n",
    " \n",
    "# Normalizar os dados para o K-means (com base nas variáveis numéricas)\n",
    "scaler = StandardScaler()\n",
    "df_scaled = df.copy()  # Criar uma cópia para manter os dados originais\n",
    " \n",
    "# Normalizar as colunas numéricas\n",
    "df_scaled[['preco_acao', 'qtde_cotas', 'valor_de_mercado']] = scaler.fit_transform(df[['preco_acao', 'qtde_cotas', 'valor_de_mercado']])\n",
    " \n",
    "# Aplicar o K-means com n_clusters=4 (Você pode alterar o número de clusters conforme necessário)\n",
    "kmeans = KMeans(n_clusters=4, random_state=42)\n",
    "df_scaled['cluster'] = kmeans.fit_predict(df_scaled[['preco_acao', 'qtde_cotas', 'valor_de_mercado']])\n",
    " \n",
    "# ---- a) Visualização 2D dos clusters formados ----\n",
    "# Redução de dimensionalidade para 2D usando PCA\n",
    "pca = PCA(n_components=2)\n",
    "pca_result = pca.fit_transform(df_scaled[['preco_acao', 'qtde_cotas', 'valor_de_mercado']])\n",
    " \n",
    "# Criar o gráfico 2D\n",
    "plt.figure(figsize=(10, 6))\n",
    "sns.scatterplot(x=pca_result[:, 0], y=pca_result[:, 1], hue=df_scaled['cluster'], palette='Set1', s=100, alpha=0.7, edgecolor='w', marker='o')\n",
    " \n",
    "# Títulos e labels\n",
    "plt.title('Visualização 2D dos Clusters Formados (PCA)', fontsize=16)\n",
    "plt.xlabel('Componente Principal 1', fontsize=12)\n",
    "plt.ylabel('Componente Principal 2', fontsize=12)\n",
    "plt.legend(title='Cluster', loc='best', fontsize=12)\n",
    "plt.show()\n",
    " \n",
    "# ---- b) Visualização 3D dos clusters formados ----\n",
    "# Criar o gráfico 3D\n",
    "fig = plt.figure(figsize=(10, 7))\n",
    "ax = fig.add_subplot(111, projection='3d')\n",
    " \n",
    "# Plotando os pontos 3D com a cor representando o cluster\n",
    "ax.scatter(df_scaled['preco_acao'], df_scaled['qtde_cotas'], df_scaled['valor_de_mercado'], c=df_scaled['cluster'], cmap='Set1', s=100)\n",
    " \n",
    "# Títulos e labels\n",
    "ax.set_title('Visualização 3D dos Clusters Formados', fontsize=16)\n",
    "ax.set_xlabel('Preço da Ação (Normalizado)', fontsize=12)\n",
    "ax.set_ylabel('Quantidade de Cotas (Normalizado)', fontsize=12)\n",
    "ax.set_zlabel('Valor de Mercado (Normalizado)', fontsize=12)\n",
    "plt.show()"
   ]
  }
 ],
 "metadata": {
  "language_info": {
   "name": "python"
  }
 },
 "nbformat": 4,
 "nbformat_minor": 2
}
